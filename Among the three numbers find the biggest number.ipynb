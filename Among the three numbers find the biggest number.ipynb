{
 "cells": [
  {
   "cell_type": "markdown",
   "id": "8137def1-a286-4e12-a92c-ce8774cf158b",
   "metadata": {},
   "source": [
    "**Write a Python program to find the biggest number using if statement by accepting three numbers from the users**"
   ]
  },
  {
   "cell_type": "code",
   "execution_count": 1,
   "id": "e736cf1c-a127-4a3a-aff2-0f77b9ba3ab4",
   "metadata": {},
   "outputs": [
    {
     "name": "stdin",
     "output_type": "stream",
     "text": [
      "Enter the first number: 56\n"
     ]
    }
   ],
   "source": [
    "#Accepting the first value from the users\n",
    "a=float(input(\"Enter the first number:\"))"
   ]
  },
  {
   "cell_type": "code",
   "execution_count": 2,
   "id": "5cacef95-64e1-42d0-9e12-aa7d5d32ea46",
   "metadata": {},
   "outputs": [
    {
     "name": "stdin",
     "output_type": "stream",
     "text": [
      "Enter the second number: 65\n"
     ]
    }
   ],
   "source": [
    "#Accepting the second value from the users\n",
    "b=float(input(\"Enter the second number:\"))"
   ]
  },
  {
   "cell_type": "code",
   "execution_count": 3,
   "id": "deeead82-4148-4727-a971-6b9581d2adfb",
   "metadata": {},
   "outputs": [
    {
     "name": "stdin",
     "output_type": "stream",
     "text": [
      "Enter the third number: 6\n"
     ]
    }
   ],
   "source": [
    "#Accepting the Third value from the users\n",
    "c=float(input(\"Enter the third number:\"))"
   ]
  },
  {
   "cell_type": "code",
   "execution_count": 4,
   "id": "c0cb7326-5d24-4a09-9ae6-54ab6fdb0340",
   "metadata": {},
   "outputs": [],
   "source": [
    "#logic to find the biggest among the three numbers\n",
    "big=a"
   ]
  },
  {
   "cell_type": "code",
   "execution_count": 5,
   "id": "7ef0104f-1f87-48b1-9c5d-b2b36aeae9e2",
   "metadata": {},
   "outputs": [
    {
     "name": "stdout",
     "output_type": "stream",
     "text": [
      "the biggest number among 56.0,65.0,6.0 is 65.0\n"
     ]
    }
   ],
   "source": [
    "if(b>big):\n",
    "   big=b\n",
    "if(c>big):\n",
    "    big=c\n",
    "print(\"the biggest number among {},{},{} is {}\".format(a,b,c,big) )"
   ]
  },
  {
   "cell_type": "markdown",
   "id": "90d76d4e-00e9-491f-b83a-ea58fa47c17a",
   "metadata": {},
   "source": [
    "**or**"
   ]
  },
  {
   "cell_type": "code",
   "execution_count": 6,
   "id": "b82ba4b6-f6b8-4468-8f43-038e4de077a6",
   "metadata": {},
   "outputs": [
    {
     "name": "stdout",
     "output_type": "stream",
     "text": [
      "b 65.0 is the biggest number\n"
     ]
    }
   ],
   "source": [
    "#logic to find the biggest number among the three numbers\n",
    "if(a>b and b>c):\n",
    "    print(\"a {} is the biggest number\".format(a))\n",
    "if(a>b and b<c and a>c):\n",
    "    print (\"a {} is the biggest number\".format(a))\n",
    "if(a<b and a>c):\n",
    "    print(\"b {} is the biggest number\".format(b))\n",
    "if(a<b and a<c and b>c):\n",
    "    print(\"b {} is the biggest number\".format(b))\n",
    "if(c>a and a>b):\n",
    "    print(\"c {} is the biggest number\".format(c))\n",
    "if(c>a and a<b and c>b):\n",
    "    print(\"c {} is the biggest number\".format(c))\n"
   ]
  },
  {
   "cell_type": "markdown",
   "id": "5055154d-4be7-4984-86ef-b1655607b9d4",
   "metadata": {},
   "source": [
    "**OR**"
   ]
  },
  {
   "cell_type": "code",
   "execution_count": 7,
   "id": "a9d80da8-477e-40ed-9937-ff14f9d8fce8",
   "metadata": {},
   "outputs": [
    {
     "name": "stdout",
     "output_type": "stream",
     "text": [
      "b 65.0 is the biggest number\n"
     ]
    }
   ],
   "source": [
    "#logic to find the biggest number among the three numbers\n",
    "if((a>b and b>c)or(a>b and b<c and a>c)):\n",
    "    print(\"a {} is the biggest number\".format(a))\n",
    "if((a<b and a>c)or(a<b and a<c and b>c)):\n",
    "    print(\"b {} is the biggest number\".format(b))\n",
    "if((c>a and a>b)or(c>a and a<b and c>b)):\n",
    "    print(\"c {} is the biggest number\".format(c))\n"
   ]
  },
  {
   "cell_type": "code",
   "execution_count": null,
   "id": "3af94092-b625-404f-9c7d-03369fde4afe",
   "metadata": {},
   "outputs": [],
   "source": []
  },
  {
   "cell_type": "code",
   "execution_count": null,
   "id": "551167e8-9724-47dc-b39c-9ba9bbbb866f",
   "metadata": {},
   "outputs": [],
   "source": []
  },
  {
   "cell_type": "code",
   "execution_count": null,
   "id": "954ab6c6-b534-4151-b9e5-8a5e6f9e1924",
   "metadata": {},
   "outputs": [],
   "source": []
  },
  {
   "cell_type": "code",
   "execution_count": null,
   "id": "ff38d7c8-4ed5-4eb0-8809-a4218d8309f8",
   "metadata": {},
   "outputs": [],
   "source": []
  },
  {
   "cell_type": "code",
   "execution_count": null,
   "id": "416a0be7-11db-48fc-a5cc-c345b746db65",
   "metadata": {},
   "outputs": [],
   "source": []
  },
  {
   "cell_type": "code",
   "execution_count": null,
   "id": "c4636c48-80f6-4607-b5a0-d96496676731",
   "metadata": {},
   "outputs": [],
   "source": []
  },
  {
   "cell_type": "code",
   "execution_count": null,
   "id": "f5d4afa2-0913-4bb3-8bdf-797c24ad4ef4",
   "metadata": {},
   "outputs": [],
   "source": []
  },
  {
   "cell_type": "code",
   "execution_count": null,
   "id": "0e69884c-d75c-4bd5-bade-7fef81f99b7f",
   "metadata": {},
   "outputs": [],
   "source": []
  }
 ],
 "metadata": {
  "kernelspec": {
   "display_name": "Python 3 (ipykernel)",
   "language": "python",
   "name": "python3"
  },
  "language_info": {
   "codemirror_mode": {
    "name": "ipython",
    "version": 3
   },
   "file_extension": ".py",
   "mimetype": "text/x-python",
   "name": "python",
   "nbconvert_exporter": "python",
   "pygments_lexer": "ipython3",
   "version": "3.12.7"
  }
 },
 "nbformat": 4,
 "nbformat_minor": 5
}
